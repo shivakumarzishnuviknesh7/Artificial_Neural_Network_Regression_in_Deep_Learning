{
  "nbformat": 4,
  "nbformat_minor": 0,
  "metadata": {
    "colab": {
      "provenance": []
    },
    "kernelspec": {
      "name": "python3",
      "display_name": "Python 3"
    }
  },
  "cells": [
    {
      "cell_type": "markdown",
      "metadata": {
        "id": "3cbb7fRy-eyr"
      },
      "source": [
        "# Artificial Neural Network"
      ]
    },
    {
      "cell_type": "markdown",
      "metadata": {
        "id": "8sNDnxE2-pwE"
      },
      "source": [
        "### Importing the libraries"
      ]
    },
    {
      "cell_type": "code",
      "metadata": {
        "id": "lxChR1Rk-umf"
      },
      "source": [
        "import numpy as np\n",
        "import pandas as pd\n",
        "import tensorflow as tf"
      ],
      "execution_count": 14,
      "outputs": []
    },
    {
      "cell_type": "code",
      "metadata": {
        "id": "uBTqR3nacj0e",
        "colab": {
          "base_uri": "https://localhost:8080/",
          "height": 36
        },
        "outputId": "b0390d0d-bf46-4f66-bdf2-84d0dce86ec3"
      },
      "source": [
        "tf.__version__"
      ],
      "execution_count": 15,
      "outputs": [
        {
          "output_type": "execute_result",
          "data": {
            "text/plain": [
              "'2.15.0'"
            ],
            "application/vnd.google.colaboratory.intrinsic+json": {
              "type": "string"
            }
          },
          "metadata": {},
          "execution_count": 15
        }
      ]
    },
    {
      "cell_type": "markdown",
      "metadata": {
        "id": "AG3FQEch-yuA"
      },
      "source": [
        "## Part 1 - Data Preprocessing"
      ]
    },
    {
      "cell_type": "markdown",
      "metadata": {
        "id": "-4zq8Mza_D9O"
      },
      "source": [
        "### Importing the dataset"
      ]
    },
    {
      "cell_type": "code",
      "metadata": {
        "id": "B9CV13Co_HHM"
      },
      "source": [
        "dataset = pd.read_excel('Folds5x2_pp.xlsx')\n",
        "X = dataset.iloc[:, :-1].values\n",
        "y = dataset.iloc[:, -1].values"
      ],
      "execution_count": 16,
      "outputs": []
    },
    {
      "cell_type": "code",
      "source": [
        "X"
      ],
      "metadata": {
        "colab": {
          "base_uri": "https://localhost:8080/"
        },
        "id": "nD6CW3If6HEU",
        "outputId": "39c65532-ee07-4a03-d9db-8930535c1505"
      },
      "execution_count": 17,
      "outputs": [
        {
          "output_type": "execute_result",
          "data": {
            "text/plain": [
              "array([[  14.96,   41.76, 1024.07,   73.17],\n",
              "       [  25.18,   62.96, 1020.04,   59.08],\n",
              "       [   5.11,   39.4 , 1012.16,   92.14],\n",
              "       ...,\n",
              "       [  31.32,   74.33, 1012.92,   36.48],\n",
              "       [  24.48,   69.45, 1013.86,   62.39],\n",
              "       [  21.6 ,   62.52, 1017.23,   67.87]])"
            ]
          },
          "metadata": {},
          "execution_count": 17
        }
      ]
    },
    {
      "cell_type": "code",
      "source": [
        "y #dependent variable"
      ],
      "metadata": {
        "colab": {
          "base_uri": "https://localhost:8080/"
        },
        "id": "QXdF1cjL6JhU",
        "outputId": "e45bc84b-9365-4f10-ad0e-b6402cc1873d"
      },
      "execution_count": 18,
      "outputs": [
        {
          "output_type": "execute_result",
          "data": {
            "text/plain": [
              "array([463.26, 444.37, 488.56, ..., 429.57, 435.74, 453.28])"
            ]
          },
          "metadata": {},
          "execution_count": 18
        }
      ]
    },
    {
      "cell_type": "markdown",
      "metadata": {
        "id": "VC6omXel_Up0"
      },
      "source": [
        "### Splitting the dataset into the Training set and Test set"
      ]
    },
    {
      "cell_type": "code",
      "metadata": {
        "id": "L5edeb2r_agx"
      },
      "source": [
        "from sklearn.model_selection import train_test_split\n",
        "X_train, X_test, y_train, y_test = train_test_split(X, y, test_size = 0.2, random_state = 0) #to avoid diffrent random split we keep it to 0"
      ],
      "execution_count": 19,
      "outputs": []
    },
    {
      "cell_type": "markdown",
      "metadata": {
        "id": "_mSLlAT9_eyI"
      },
      "source": [
        "## Part 2 - Building the ANN"
      ]
    },
    {
      "cell_type": "markdown",
      "metadata": {
        "id": "CsBULd_f_wLY"
      },
      "source": [
        "### Initializing the ANN"
      ]
    },
    {
      "cell_type": "code",
      "metadata": {
        "id": "J6Hd97Ls__Nz"
      },
      "source": [
        "ann = tf.keras.models.Sequential()"
      ],
      "execution_count": 20,
      "outputs": []
    },
    {
      "cell_type": "markdown",
      "metadata": {
        "id": "iitAFJS_ABUn"
      },
      "source": [
        "### Adding the input layer and the first hidden layer"
      ]
    },
    {
      "cell_type": "code",
      "metadata": {
        "id": "ksO_Vv40AHix"
      },
      "source": [
        "ann.add(tf.keras.layers.Dense(units=6, activation='relu'))"
      ],
      "execution_count": 21,
      "outputs": []
    },
    {
      "cell_type": "markdown",
      "metadata": {
        "id": "-lb4kK_wAKbs"
      },
      "source": [
        "### Adding the second hidden layer"
      ]
    },
    {
      "cell_type": "code",
      "metadata": {
        "id": "c2357OqEAQOQ"
      },
      "source": [
        "ann.add(tf.keras.layers.Dense(units=6, activation='relu'))"
      ],
      "execution_count": 22,
      "outputs": []
    },
    {
      "cell_type": "markdown",
      "metadata": {
        "id": "jwMOmKb3AdBY"
      },
      "source": [
        "### Adding the output layer"
      ]
    },
    {
      "cell_type": "code",
      "metadata": {
        "id": "YFATpzsUAkLL"
      },
      "source": [
        "#clssifciation with only 2 categories to predict in the end like yes or no (we have to use sigmoid activation function)\n",
        "#clssifciation with more than 2 categories to predict in the end (we have to use soft max activation function)\n",
        "# regression means predicting continous real number as final (no activation function)\n",
        "\n",
        "ann.add(tf.keras.layers.Dense(units=1))"
      ],
      "execution_count": 23,
      "outputs": []
    },
    {
      "cell_type": "markdown",
      "metadata": {
        "id": "fq7e4fF6A1yy"
      },
      "source": [
        "## Part 3 - Training the ANN"
      ]
    },
    {
      "cell_type": "markdown",
      "metadata": {
        "id": "qDeylAs2An25"
      },
      "source": [
        "### Compiling the ANN"
      ]
    },
    {
      "cell_type": "code",
      "metadata": {
        "id": "pesgbWlCAtB4"
      },
      "source": [
        "ann.compile(optimizer = 'adam', loss = 'mean_squared_error')"
      ],
      "execution_count": 24,
      "outputs": []
    },
    {
      "cell_type": "markdown",
      "metadata": {
        "id": "YjVuiybYOo7r"
      },
      "source": [
        "### Training the ANN model on the Training set"
      ]
    },
    {
      "cell_type": "code",
      "metadata": {
        "id": "c_vV-tiiA5zn",
        "colab": {
          "base_uri": "https://localhost:8080/"
        },
        "outputId": "a9af83e5-a4c4-4fab-9899-7d219b8daf22"
      },
      "source": [
        "ann.fit(X_train, y_train, batch_size = 32, epochs = 100)"
      ],
      "execution_count": 25,
      "outputs": [
        {
          "output_type": "stream",
          "name": "stdout",
          "text": [
            "Epoch 1/100\n",
            "240/240 [==============================] - 1s 3ms/step - loss: 89594.3047\n",
            "Epoch 2/100\n",
            "240/240 [==============================] - 1s 3ms/step - loss: 1040.5588\n",
            "Epoch 3/100\n",
            "240/240 [==============================] - 1s 3ms/step - loss: 757.7369\n",
            "Epoch 4/100\n",
            "240/240 [==============================] - 1s 2ms/step - loss: 729.0685\n",
            "Epoch 5/100\n",
            "240/240 [==============================] - 1s 2ms/step - loss: 696.2803\n",
            "Epoch 6/100\n",
            "240/240 [==============================] - 1s 2ms/step - loss: 658.9984\n",
            "Epoch 7/100\n",
            "240/240 [==============================] - 1s 2ms/step - loss: 619.5907\n",
            "Epoch 8/100\n",
            "240/240 [==============================] - 1s 2ms/step - loss: 577.4346\n",
            "Epoch 9/100\n",
            "240/240 [==============================] - 1s 2ms/step - loss: 533.7373\n",
            "Epoch 10/100\n",
            "240/240 [==============================] - 1s 2ms/step - loss: 489.5844\n",
            "Epoch 11/100\n",
            "240/240 [==============================] - 1s 2ms/step - loss: 445.1344\n",
            "Epoch 12/100\n",
            "240/240 [==============================] - 1s 2ms/step - loss: 402.4507\n",
            "Epoch 13/100\n",
            "240/240 [==============================] - 0s 2ms/step - loss: 359.6864\n",
            "Epoch 14/100\n",
            "240/240 [==============================] - 1s 3ms/step - loss: 319.1096\n",
            "Epoch 15/100\n",
            "240/240 [==============================] - 1s 4ms/step - loss: 280.7776\n",
            "Epoch 16/100\n",
            "240/240 [==============================] - 1s 4ms/step - loss: 245.9543\n",
            "Epoch 17/100\n",
            "240/240 [==============================] - 1s 4ms/step - loss: 213.6575\n",
            "Epoch 18/100\n",
            "240/240 [==============================] - 1s 3ms/step - loss: 184.0508\n",
            "Epoch 19/100\n",
            "240/240 [==============================] - 1s 2ms/step - loss: 159.0692\n",
            "Epoch 20/100\n",
            "240/240 [==============================] - 1s 2ms/step - loss: 135.5107\n",
            "Epoch 21/100\n",
            "240/240 [==============================] - 1s 2ms/step - loss: 115.0432\n",
            "Epoch 22/100\n",
            "240/240 [==============================] - 0s 2ms/step - loss: 97.6470\n",
            "Epoch 23/100\n",
            "240/240 [==============================] - 0s 2ms/step - loss: 82.6860\n",
            "Epoch 24/100\n",
            "240/240 [==============================] - 1s 2ms/step - loss: 69.8117\n",
            "Epoch 25/100\n",
            "240/240 [==============================] - 1s 3ms/step - loss: 59.8832\n",
            "Epoch 26/100\n",
            "240/240 [==============================] - 1s 3ms/step - loss: 50.5471\n",
            "Epoch 27/100\n",
            "240/240 [==============================] - 1s 2ms/step - loss: 43.2738\n",
            "Epoch 28/100\n",
            "240/240 [==============================] - 0s 2ms/step - loss: 37.4576\n",
            "Epoch 29/100\n",
            "240/240 [==============================] - 0s 2ms/step - loss: 33.2511\n",
            "Epoch 30/100\n",
            "240/240 [==============================] - 1s 2ms/step - loss: 30.6002\n",
            "Epoch 31/100\n",
            "240/240 [==============================] - 1s 2ms/step - loss: 28.6118\n",
            "Epoch 32/100\n",
            "240/240 [==============================] - 1s 2ms/step - loss: 28.0662\n",
            "Epoch 33/100\n",
            "240/240 [==============================] - 1s 2ms/step - loss: 27.1460\n",
            "Epoch 34/100\n",
            "240/240 [==============================] - 1s 2ms/step - loss: 26.5608\n",
            "Epoch 35/100\n",
            "240/240 [==============================] - 0s 2ms/step - loss: 26.8160\n",
            "Epoch 36/100\n",
            "240/240 [==============================] - 1s 3ms/step - loss: 26.6517\n",
            "Epoch 37/100\n",
            "240/240 [==============================] - 1s 3ms/step - loss: 26.6886\n",
            "Epoch 38/100\n",
            "240/240 [==============================] - 1s 3ms/step - loss: 27.1445\n",
            "Epoch 39/100\n",
            "240/240 [==============================] - 1s 4ms/step - loss: 26.6944\n",
            "Epoch 40/100\n",
            "240/240 [==============================] - 1s 4ms/step - loss: 26.3760\n",
            "Epoch 41/100\n",
            "240/240 [==============================] - 0s 2ms/step - loss: 26.8001\n",
            "Epoch 42/100\n",
            "240/240 [==============================] - 0s 2ms/step - loss: 26.5312\n",
            "Epoch 43/100\n",
            "240/240 [==============================] - 1s 2ms/step - loss: 26.4490\n",
            "Epoch 44/100\n",
            "240/240 [==============================] - 1s 2ms/step - loss: 26.8020\n",
            "Epoch 45/100\n",
            "240/240 [==============================] - 1s 2ms/step - loss: 26.7908\n",
            "Epoch 46/100\n",
            "240/240 [==============================] - 0s 2ms/step - loss: 26.7886\n",
            "Epoch 47/100\n",
            "240/240 [==============================] - 1s 2ms/step - loss: 26.6100\n",
            "Epoch 48/100\n",
            "240/240 [==============================] - 1s 2ms/step - loss: 26.7429\n",
            "Epoch 49/100\n",
            "240/240 [==============================] - 1s 2ms/step - loss: 26.8044\n",
            "Epoch 50/100\n",
            "240/240 [==============================] - 1s 2ms/step - loss: 26.9620\n",
            "Epoch 51/100\n",
            "240/240 [==============================] - 1s 2ms/step - loss: 26.5663\n",
            "Epoch 52/100\n",
            "240/240 [==============================] - 0s 2ms/step - loss: 27.4456\n",
            "Epoch 53/100\n",
            "240/240 [==============================] - 1s 2ms/step - loss: 26.9403\n",
            "Epoch 54/100\n",
            "240/240 [==============================] - 1s 2ms/step - loss: 26.6817\n",
            "Epoch 55/100\n",
            "240/240 [==============================] - 1s 2ms/step - loss: 26.7165\n",
            "Epoch 56/100\n",
            "240/240 [==============================] - 0s 2ms/step - loss: 26.8311\n",
            "Epoch 57/100\n",
            "240/240 [==============================] - 0s 2ms/step - loss: 26.2987\n",
            "Epoch 58/100\n",
            "240/240 [==============================] - 1s 2ms/step - loss: 26.5320\n",
            "Epoch 59/100\n",
            "240/240 [==============================] - 1s 2ms/step - loss: 26.6344\n",
            "Epoch 60/100\n",
            "240/240 [==============================] - 1s 4ms/step - loss: 26.4462\n",
            "Epoch 61/100\n",
            "240/240 [==============================] - 1s 3ms/step - loss: 27.0906\n",
            "Epoch 62/100\n",
            "240/240 [==============================] - 1s 4ms/step - loss: 26.4792\n",
            "Epoch 63/100\n",
            "240/240 [==============================] - 1s 4ms/step - loss: 26.3755\n",
            "Epoch 64/100\n",
            "240/240 [==============================] - 1s 2ms/step - loss: 26.5367\n",
            "Epoch 65/100\n",
            "240/240 [==============================] - 1s 2ms/step - loss: 26.9042\n",
            "Epoch 66/100\n",
            "240/240 [==============================] - 1s 2ms/step - loss: 27.2328\n",
            "Epoch 67/100\n",
            "240/240 [==============================] - 1s 2ms/step - loss: 26.6234\n",
            "Epoch 68/100\n",
            "240/240 [==============================] - 1s 2ms/step - loss: 26.3614\n",
            "Epoch 69/100\n",
            "240/240 [==============================] - 0s 2ms/step - loss: 26.7502\n",
            "Epoch 70/100\n",
            "240/240 [==============================] - 0s 2ms/step - loss: 27.0888\n",
            "Epoch 71/100\n",
            "240/240 [==============================] - 0s 2ms/step - loss: 26.2764\n",
            "Epoch 72/100\n",
            "240/240 [==============================] - 0s 2ms/step - loss: 26.5969\n",
            "Epoch 73/100\n",
            "240/240 [==============================] - 1s 2ms/step - loss: 26.7189\n",
            "Epoch 74/100\n",
            "240/240 [==============================] - 1s 2ms/step - loss: 26.5033\n",
            "Epoch 75/100\n",
            "240/240 [==============================] - 1s 2ms/step - loss: 26.2915\n",
            "Epoch 76/100\n",
            "240/240 [==============================] - 1s 2ms/step - loss: 26.6341\n",
            "Epoch 77/100\n",
            "240/240 [==============================] - 0s 2ms/step - loss: 26.5733\n",
            "Epoch 78/100\n",
            "240/240 [==============================] - 0s 2ms/step - loss: 26.2662\n",
            "Epoch 79/100\n",
            "240/240 [==============================] - 1s 2ms/step - loss: 27.3090\n",
            "Epoch 80/100\n",
            "240/240 [==============================] - 0s 2ms/step - loss: 26.4532\n",
            "Epoch 81/100\n",
            "240/240 [==============================] - 0s 2ms/step - loss: 26.7283\n",
            "Epoch 82/100\n",
            "240/240 [==============================] - 1s 2ms/step - loss: 26.3879\n",
            "Epoch 83/100\n",
            "240/240 [==============================] - 1s 2ms/step - loss: 26.7166\n",
            "Epoch 84/100\n",
            "240/240 [==============================] - 1s 4ms/step - loss: 26.3931\n",
            "Epoch 85/100\n",
            "240/240 [==============================] - 1s 4ms/step - loss: 27.0382\n",
            "Epoch 86/100\n",
            "240/240 [==============================] - 1s 4ms/step - loss: 26.4926\n",
            "Epoch 87/100\n",
            "240/240 [==============================] - 1s 3ms/step - loss: 26.4874\n",
            "Epoch 88/100\n",
            "240/240 [==============================] - 1s 3ms/step - loss: 26.9494\n",
            "Epoch 89/100\n",
            "240/240 [==============================] - 0s 2ms/step - loss: 26.2791\n",
            "Epoch 90/100\n",
            "240/240 [==============================] - 0s 2ms/step - loss: 26.2586\n",
            "Epoch 91/100\n",
            "240/240 [==============================] - 1s 2ms/step - loss: 26.7725\n",
            "Epoch 92/100\n",
            "240/240 [==============================] - 0s 2ms/step - loss: 26.4799\n",
            "Epoch 93/100\n",
            "240/240 [==============================] - 0s 2ms/step - loss: 26.5104\n",
            "Epoch 94/100\n",
            "240/240 [==============================] - 0s 2ms/step - loss: 27.1578\n",
            "Epoch 95/100\n",
            "240/240 [==============================] - 1s 2ms/step - loss: 26.8234\n",
            "Epoch 96/100\n",
            "240/240 [==============================] - 1s 2ms/step - loss: 27.1586\n",
            "Epoch 97/100\n",
            "240/240 [==============================] - 1s 2ms/step - loss: 26.5278\n",
            "Epoch 98/100\n",
            "240/240 [==============================] - 1s 3ms/step - loss: 26.5422\n",
            "Epoch 99/100\n",
            "240/240 [==============================] - 1s 3ms/step - loss: 26.6817\n",
            "Epoch 100/100\n",
            "240/240 [==============================] - 1s 3ms/step - loss: 26.3442\n"
          ]
        },
        {
          "output_type": "execute_result",
          "data": {
            "text/plain": [
              "<keras.src.callbacks.History at 0x78b24276d3c0>"
            ]
          },
          "metadata": {},
          "execution_count": 25
        }
      ]
    },
    {
      "cell_type": "code",
      "source": [
        "print(ann.predict(X_test))"
      ],
      "metadata": {
        "colab": {
          "base_uri": "https://localhost:8080/"
        },
        "id": "4PvFsjY5AH7R",
        "outputId": "23c1f6f0-affd-4b31-fb42-45e4c7610417"
      },
      "execution_count": 27,
      "outputs": [
        {
          "output_type": "stream",
          "name": "stdout",
          "text": [
            "60/60 [==============================] - 0s 2ms/step\n",
            "[[430.65]\n",
            " [461.61]\n",
            " [465.07]\n",
            " ...\n",
            " [472.34]\n",
            " [439.16]\n",
            " [458.35]]\n"
          ]
        }
      ]
    },
    {
      "cell_type": "markdown",
      "metadata": {
        "id": "0H0zKKNEBLD5"
      },
      "source": [
        "### Predicting the results of the Test set"
      ]
    },
    {
      "cell_type": "code",
      "metadata": {
        "id": "IA0yApEmBG1X",
        "colab": {
          "base_uri": "https://localhost:8080/"
        },
        "outputId": "331082a2-0569-4696-e6f3-c3c860c7c467"
      },
      "source": [
        "y_pred = ann.predict(X_test)\n",
        "np.set_printoptions(precision=2)# precision=2 - two decimals after comma\n",
        "print(np.concatenate((y_pred.reshape(len(y_pred),1), y_test.reshape(len(y_test),1)),1))"
      ],
      "execution_count": 26,
      "outputs": [
        {
          "output_type": "stream",
          "name": "stdout",
          "text": [
            "60/60 [==============================] - 0s 1ms/step\n",
            "[[430.65 431.23]\n",
            " [461.61 460.01]\n",
            " [465.07 461.14]\n",
            " ...\n",
            " [472.34 473.26]\n",
            " [439.16 438.  ]\n",
            " [458.35 463.28]]\n"
          ]
        }
      ]
    }
  ]
}